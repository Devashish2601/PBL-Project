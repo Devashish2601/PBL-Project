{
 "cells": [
  {
   "cell_type": "code",
   "execution_count": 4,
   "id": "a13637f5-d05e-49c3-8c60-1b8f0162ae74",
   "metadata": {},
   "outputs": [
    {
     "name": "stdin",
     "output_type": "stream",
     "text": [
      "Enter a number:  10\n"
     ]
    },
    {
     "name": "stdout",
     "output_type": "stream",
     "text": [
      "Non-recursive Fibonacci result for the following number is: 55\n",
      "Recursive Fibonacci result for the following number is:: 55\n"
     ]
    }
   ],
   "source": [
    "#DAA 1 - Fibonacci Numbers\n",
    "\n",
    "def fibonacci_non_recursive(n):\n",
    "    if n == 0:\n",
    "        return 0\n",
    "    elif n == 1:\n",
    "        return 1\n",
    "    a, b = 0, 1\n",
    "    for i in range(2, n + 1):\n",
    "        fib = a + b\n",
    "        a = b\n",
    "        b = fib\n",
    "    return b\n",
    "\n",
    "def fibonacci_recursive(n):\n",
    "    if n == 0:\n",
    "        return 0\n",
    "    elif n == 1:\n",
    "        return 1\n",
    "    else:\n",
    "        return fibonacci_recursive(n - 1) + fibonacci_recursive(n - 2)\n",
    "\n",
    "# Taking user input\n",
    "n = int(input(\"Enter a number: \"))\n",
    "\n",
    "print(\"Non-recursive Fibonacci result for the following number is:\", fibonacci_non_recursive(n))\n",
    "print(\"Recursive Fibonacci result for the following number is::\", fibonacci_recursive(n))"
   ]
  },
  {
   "cell_type": "code",
   "execution_count": null,
   "id": "08996cd1-787b-44c3-b5c8-e69cc14ab09c",
   "metadata": {},
   "outputs": [],
   "source": []
  },
  {
   "cell_type": "code",
   "execution_count": null,
   "id": "ef515a61-21b9-4389-858f-cec4f932eeac",
   "metadata": {},
   "outputs": [],
   "source": []
  },
  {
   "cell_type": "code",
   "execution_count": null,
   "id": "31bb57cf-ae6e-4674-b48e-618b99965e9b",
   "metadata": {},
   "outputs": [],
   "source": []
  },
  {
   "cell_type": "code",
   "execution_count": null,
   "id": "d34a2766-7144-4a3d-9f95-38b207e1bf52",
   "metadata": {},
   "outputs": [],
   "source": []
  },
  {
   "cell_type": "code",
   "execution_count": null,
   "id": "56d30895-aed1-4bd0-9c8c-7af145ef10e4",
   "metadata": {},
   "outputs": [],
   "source": []
  },
  {
   "cell_type": "code",
   "execution_count": null,
   "id": "662c4292-72b3-4bd5-826f-9ef004681ef2",
   "metadata": {},
   "outputs": [],
   "source": []
  },
  {
   "cell_type": "code",
   "execution_count": null,
   "id": "989616a6-9316-40b0-bd93-8d63d65041ae",
   "metadata": {},
   "outputs": [],
   "source": []
  },
  {
   "cell_type": "code",
   "execution_count": null,
   "id": "7b91ee51-8aba-4a50-a224-778792daaddb",
   "metadata": {},
   "outputs": [],
   "source": []
  },
  {
   "cell_type": "code",
   "execution_count": null,
   "id": "c76dc501-8fc5-4d46-8951-cfc595894283",
   "metadata": {},
   "outputs": [],
   "source": []
  },
  {
   "cell_type": "code",
   "execution_count": null,
   "id": "a4759107-f3e6-4af8-89c0-a1794fa96981",
   "metadata": {},
   "outputs": [],
   "source": []
  },
  {
   "cell_type": "code",
   "execution_count": null,
   "id": "94ec9c27-0eff-446c-9871-25fe6869ca7b",
   "metadata": {},
   "outputs": [],
   "source": []
  },
  {
   "cell_type": "code",
   "execution_count": null,
   "id": "5a8e7329-8f04-4cd9-9e5b-b67de1df9d8e",
   "metadata": {},
   "outputs": [],
   "source": []
  },
  {
   "cell_type": "code",
   "execution_count": null,
   "id": "24279642-283a-4f53-865e-487ed2330206",
   "metadata": {},
   "outputs": [],
   "source": []
  },
  {
   "cell_type": "code",
   "execution_count": null,
   "id": "985f3e5b-d8ad-407c-88c8-47c9783517fd",
   "metadata": {},
   "outputs": [],
   "source": []
  },
  {
   "cell_type": "code",
   "execution_count": null,
   "id": "0bbd638d-10a2-4809-9952-a8eedeef7f25",
   "metadata": {},
   "outputs": [],
   "source": []
  },
  {
   "cell_type": "code",
   "execution_count": null,
   "id": "fefc490a-24a7-4923-a3f5-200a965e9eba",
   "metadata": {},
   "outputs": [],
   "source": []
  },
  {
   "cell_type": "code",
   "execution_count": null,
   "id": "adb49845-2602-46cb-a24a-c5b49ae3df14",
   "metadata": {},
   "outputs": [],
   "source": []
  },
  {
   "cell_type": "code",
   "execution_count": null,
   "id": "e18c0913-e149-46b6-a774-8d98e71f0d61",
   "metadata": {},
   "outputs": [],
   "source": []
  },
  {
   "cell_type": "code",
   "execution_count": null,
   "id": "0078da68-f7d0-4424-aae8-985bbf7f5977",
   "metadata": {},
   "outputs": [],
   "source": []
  },
  {
   "cell_type": "code",
   "execution_count": null,
   "id": "3a505d97-1b3d-4c6d-bf74-d3a43893cece",
   "metadata": {},
   "outputs": [],
   "source": []
  },
  {
   "cell_type": "code",
   "execution_count": null,
   "id": "52c3bad6-5981-4b90-8546-a3f1d331b879",
   "metadata": {},
   "outputs": [],
   "source": []
  },
  {
   "cell_type": "code",
   "execution_count": null,
   "id": "e745a7df-c0a7-4770-b5aa-0eba7b984cd7",
   "metadata": {},
   "outputs": [],
   "source": []
  },
  {
   "cell_type": "code",
   "execution_count": null,
   "id": "30decf90-f2e0-45e2-8a30-c6cb6e39a9ae",
   "metadata": {},
   "outputs": [],
   "source": []
  },
  {
   "cell_type": "code",
   "execution_count": null,
   "id": "57532936-5caf-4cdb-9643-a052fd68d6cc",
   "metadata": {},
   "outputs": [],
   "source": []
  },
  {
   "cell_type": "code",
   "execution_count": null,
   "id": "c61e9511-bd97-48ba-acfa-666e0ac64582",
   "metadata": {},
   "outputs": [],
   "source": []
  },
  {
   "cell_type": "code",
   "execution_count": null,
   "id": "af4b5b70-e50b-4501-a213-58ffa715ebe6",
   "metadata": {},
   "outputs": [],
   "source": []
  },
  {
   "cell_type": "code",
   "execution_count": null,
   "id": "25a4c614-49b4-49a3-962d-f0bb7c71d76d",
   "metadata": {},
   "outputs": [],
   "source": []
  },
  {
   "cell_type": "code",
   "execution_count": null,
   "id": "3da2186c-0c12-40f4-b289-4f8b4884313e",
   "metadata": {},
   "outputs": [],
   "source": []
  },
  {
   "cell_type": "code",
   "execution_count": null,
   "id": "e34a2648-3bd4-4685-acf9-fe1681280705",
   "metadata": {},
   "outputs": [],
   "source": []
  },
  {
   "cell_type": "code",
   "execution_count": null,
   "id": "a6667a02-6b37-44d9-a5c9-8d552aca8f7a",
   "metadata": {},
   "outputs": [],
   "source": []
  },
  {
   "cell_type": "code",
   "execution_count": null,
   "id": "ed8c9ef7-c7f4-443d-b688-31ce801f9750",
   "metadata": {},
   "outputs": [],
   "source": []
  },
  {
   "cell_type": "code",
   "execution_count": null,
   "id": "94c5bf03-ace5-45b2-80cb-85edb0dbbe1a",
   "metadata": {},
   "outputs": [],
   "source": []
  },
  {
   "cell_type": "code",
   "execution_count": null,
   "id": "8d484fbd-d7b6-4328-8417-a55d51d15587",
   "metadata": {},
   "outputs": [],
   "source": []
  },
  {
   "cell_type": "code",
   "execution_count": null,
   "id": "6d0f7f78-837d-4298-b864-8705c41d1979",
   "metadata": {},
   "outputs": [],
   "source": []
  },
  {
   "cell_type": "raw",
   "id": "be7fe2a4-7de5-4882-a04f-b491e7873cc7",
   "metadata": {},
   "source": [
    "This code defines two functions, `fibonacci_non_recursive` and `fibonacci_recursive`, to calculate the nth Fibonacci number.\n",
    "\n",
    "1. **`fibonacci_non_recursive(n)`**: Computes the nth Fibonacci number using an iterative approach. It uses variables `a` and `b` to track the previous two Fibonacci values and iteratively updates them until it reaches the nth position.\n",
    "\n",
    "2. **`fibonacci_recursive(n)`**: Computes the nth Fibonacci number recursively by calling itself for the previous two Fibonacci numbers (`n-1` and `n-2`) until reaching the base cases `n = 0` and `n = 1`.\n",
    "\n",
    "3. **User Input**: The program takes an integer input `n` from the user and prints the Fibonacci number at that position using both methods.\n",
    "\n"
   ]
  },
  {
   "cell_type": "raw",
   "id": "1e87a9c5-b43a-470e-901a-6bcbbbd0cf59",
   "metadata": {},
   "source": [
    "In a recursive program, a function calls itself directly or indirectly to solve a smaller instance \n",
    "of the problem until it reaches a base case. This makes the recursive approach intuitive and often \n",
    "easier to write for problems like tree traversals, Fibonacci numbers, or factorial calculations. \n",
    "However, recursion can lead to increased memory usage because each recursive call adds to \n",
    "the system’s call stack. If the recursion is deep, it could cause a stack overflow.\n",
    "\n",
    "A non-recursive (iterative) program, on the other hand, uses loops (like for or while) to \n",
    "repeat calculations. Iterative solutions tend to use less memory as they don’t require additional \n",
    "function calls or the call stack, making them more efficient in terms of space. For example, \n",
    "calculating Fibonacci numbers iteratively avoids the excessive overhead that comes with \n",
    "recursive calls. "
   ]
  },
  {
   "cell_type": "raw",
   "id": "0b181a9b-de14-4227-9cc3-7880265dada5",
   "metadata": {},
   "source": [
    "The Fibonacci sequence is a series of numbers where each number is the sum of the two \n",
    "preceding ones, typically starting with 0 and 1. The Fibonacci sequence can be described by the \n",
    "recurrence relation: \n",
    "F(0)=0,F(1)=1F(0) = 0, F(1) = 1F(0)=0,F(1)=1 F(n)=F(n−1)+F(n−2)for n≥2F(n) = F(n-1) + F(n-2) \n",
    "\\quad \\text{for} \\, n \\geq 2F(n)=F(n−1)+F(n−2)forn≥2 \n",
    "The sequence begins: 0, 1, 1, 2, 3, 5, 8, 13, 21, 34, 55, ... "
   ]
  },
  {
   "cell_type": "markdown",
   "id": "da0f210e-3902-4295-8b15-b1a10a1e5bcc",
   "metadata": {},
   "source": [
    "recursive Fibonacci calculation has exponential time complexity (O(2^n)) and linear \n",
    "space complexity (O(n)) due to recursive stack calls, while the iterative version has linear time \n",
    "complexity (O(n)) and constant space complexity (O(1))."
   ]
  },
  {
   "cell_type": "code",
   "execution_count": null,
   "id": "a2596e61-3c86-4dac-8fc3-3c680279b54b",
   "metadata": {},
   "outputs": [],
   "source": []
  }
 ],
 "metadata": {
  "kernelspec": {
   "display_name": "Python 3 (ipykernel)",
   "language": "python",
   "name": "python3"
  },
  "language_info": {
   "codemirror_mode": {
    "name": "ipython",
    "version": 3
   },
   "file_extension": ".py",
   "mimetype": "text/x-python",
   "name": "python",
   "nbconvert_exporter": "python",
   "pygments_lexer": "ipython3",
   "version": "3.13.0"
  }
 },
 "nbformat": 4,
 "nbformat_minor": 5
}
