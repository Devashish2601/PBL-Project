{
 "cells": [
  {
   "cell_type": "code",
   "execution_count": 1,
   "id": "21c6bb1c-617d-41e7-9d2c-7faad005395f",
   "metadata": {},
   "outputs": [
    {
     "name": "stdin",
     "output_type": "stream",
     "text": [
      "Enter the number of items:  3\n",
      "Enter value of item 1:  60\n",
      "Enter weight of item 1:  10\n",
      "Enter value of item 2:  100\n",
      "Enter weight of item 2:  20\n",
      "Enter value of item 3:  120\n",
      "Enter weight of item 3:  30\n",
      "Enter the capacity of the knapsack:  50\n"
     ]
    },
    {
     "name": "stdout",
     "output_type": "stream",
     "text": [
      "Maximum value in knapsack = 220\n"
     ]
    }
   ],
   "source": [
    "# DAA 4 - 0-1 Knapsack Problem using Dynamic Programming\n",
    "\n",
    "# Function to solve 0-1 Knapsack problem using Dynamic Programming\n",
    "def knapsack_dp(weights, values, capacity):\n",
    "    n = len(values)  # Number of items\n",
    "    # Create a DP table with size (n+1) x (capacity+1)\n",
    "    dp = [[0 for _ in range(capacity + 1)] for _ in range(n + 1)]\n",
    "\n",
    "    # Fill the DP table\n",
    "    for i in range(1, n + 1):\n",
    "        for w in range(1, capacity + 1):\n",
    "            if weights[i - 1] <= w:\n",
    "                # Either include the item or exclude it\n",
    "                dp[i][w] = max(dp[i - 1][w], dp[i - 1][w - weights[i - 1]] + values[i - 1])\n",
    "            else:\n",
    "                dp[i][w] = dp[i - 1][w]\n",
    "\n",
    "    # Return the maximum value for the given capacity\n",
    "    return dp[n][capacity]\n",
    "\n",
    "# Driver code for user input\n",
    "if __name__ == \"__main__\":\n",
    "    # Step 1: Input number of items\n",
    "    n = int(input(\"Enter the number of items: \"))\n",
    "\n",
    "    values = []\n",
    "    weights = []\n",
    "\n",
    "    # Step 2: Input values and weights for each item\n",
    "    for i in range(n):\n",
    "        value = int(input(f\"Enter value of item {i + 1}: \"))\n",
    "        weight = int(input(f\"Enter weight of item {i + 1}: \"))\n",
    "        values.append(value)\n",
    "        weights.append(weight)\n",
    "\n",
    "    # Step 3: Input the capacity of the knapsack\n",
    "    capacity = int(input(\"Enter the capacity of the knapsack: \"))\n",
    "\n",
    "    # Step 4: Calculate and print the maximum value\n",
    "    max_value = knapsack_dp(weights, values, capacity)\n",
    "    print(f\"Maximum value in knapsack = {max_value}\")"
   ]
  },
  {
   "cell_type": "code",
   "execution_count": null,
   "id": "e0a3cf75-82f7-4d4b-986b-d7dc659a5103",
   "metadata": {},
   "outputs": [],
   "source": []
  },
  {
   "cell_type": "code",
   "execution_count": null,
   "id": "3260ae3f-db51-4326-8a58-dd3f3803d79e",
   "metadata": {},
   "outputs": [],
   "source": []
  },
  {
   "cell_type": "code",
   "execution_count": null,
   "id": "bc0042ec-0df6-4ea2-b2fb-426801e4c184",
   "metadata": {},
   "outputs": [],
   "source": []
  },
  {
   "cell_type": "code",
   "execution_count": null,
   "id": "74365559-1e9d-4c9d-b183-03b847009c34",
   "metadata": {},
   "outputs": [],
   "source": []
  },
  {
   "cell_type": "code",
   "execution_count": null,
   "id": "3ec68929-cf5f-4938-8e4d-9923c372a452",
   "metadata": {},
   "outputs": [],
   "source": []
  },
  {
   "cell_type": "code",
   "execution_count": null,
   "id": "425a3844-a2d5-43ac-993d-c74baeb61f85",
   "metadata": {},
   "outputs": [],
   "source": []
  },
  {
   "cell_type": "code",
   "execution_count": null,
   "id": "8c336507-b40f-4613-b48b-cb3f9bd635f6",
   "metadata": {},
   "outputs": [],
   "source": []
  },
  {
   "cell_type": "code",
   "execution_count": null,
   "id": "bb11fc1f-976a-4e4d-81ca-7e4558d3beaf",
   "metadata": {},
   "outputs": [],
   "source": []
  },
  {
   "cell_type": "code",
   "execution_count": null,
   "id": "64e85ab9-498b-40e8-b3e4-930a3b798cdf",
   "metadata": {},
   "outputs": [],
   "source": []
  },
  {
   "cell_type": "code",
   "execution_count": null,
   "id": "09d3f4da-5db6-4711-93cf-7e1df02bd06d",
   "metadata": {},
   "outputs": [],
   "source": []
  },
  {
   "cell_type": "code",
   "execution_count": null,
   "id": "805a172c-a234-4f85-bd97-892ec88ca31f",
   "metadata": {},
   "outputs": [],
   "source": []
  },
  {
   "cell_type": "code",
   "execution_count": null,
   "id": "4649d970-4aa6-4bc1-a654-70a013643337",
   "metadata": {},
   "outputs": [],
   "source": []
  },
  {
   "cell_type": "code",
   "execution_count": null,
   "id": "2d2aed5a-f988-4925-a367-ea32ae15d823",
   "metadata": {},
   "outputs": [],
   "source": []
  },
  {
   "cell_type": "code",
   "execution_count": null,
   "id": "6f952a6e-2254-44fa-a7be-77c9623d1e03",
   "metadata": {},
   "outputs": [],
   "source": []
  },
  {
   "cell_type": "code",
   "execution_count": null,
   "id": "4ee6cc65-c45b-4365-a45c-5f3c0fec426a",
   "metadata": {},
   "outputs": [],
   "source": []
  },
  {
   "cell_type": "code",
   "execution_count": null,
   "id": "83f55114-520e-4b1b-b3c7-f21ad6a12781",
   "metadata": {},
   "outputs": [],
   "source": []
  },
  {
   "cell_type": "code",
   "execution_count": null,
   "id": "83cf229e-8934-4428-9d51-f1ecbc659442",
   "metadata": {},
   "outputs": [],
   "source": []
  },
  {
   "cell_type": "code",
   "execution_count": null,
   "id": "4fcd18e8-a3ce-4ff8-9d26-e71bab979d68",
   "metadata": {},
   "outputs": [],
   "source": []
  },
  {
   "cell_type": "code",
   "execution_count": null,
   "id": "6aabac1e-33c1-4d79-9258-e54ac6706f26",
   "metadata": {},
   "outputs": [],
   "source": []
  },
  {
   "cell_type": "code",
   "execution_count": null,
   "id": "251b8fef-8ba3-4d8f-aab3-26fe1e5c97b4",
   "metadata": {},
   "outputs": [],
   "source": []
  },
  {
   "cell_type": "code",
   "execution_count": null,
   "id": "6c49c3e7-87a1-499f-81fc-9431d8ed8108",
   "metadata": {},
   "outputs": [],
   "source": []
  },
  {
   "cell_type": "code",
   "execution_count": null,
   "id": "dd7a4cc7-533a-4962-9ba8-b4e210af632b",
   "metadata": {},
   "outputs": [],
   "source": []
  },
  {
   "cell_type": "code",
   "execution_count": null,
   "id": "29e3fd93-b93c-48d3-8161-a5e0b09395b8",
   "metadata": {},
   "outputs": [],
   "source": []
  },
  {
   "cell_type": "code",
   "execution_count": null,
   "id": "d000e800-5f87-4f21-977c-349a41046d51",
   "metadata": {},
   "outputs": [],
   "source": []
  },
  {
   "cell_type": "code",
   "execution_count": null,
   "id": "d525362f-dc84-45fe-a6bd-4a5ec5069809",
   "metadata": {},
   "outputs": [],
   "source": []
  },
  {
   "cell_type": "code",
   "execution_count": null,
   "id": "4634717b-1b00-433b-b84a-2e4ea09fbb93",
   "metadata": {},
   "outputs": [],
   "source": []
  },
  {
   "cell_type": "code",
   "execution_count": null,
   "id": "a8d69640-974e-45c9-9b5a-31a29956dcf5",
   "metadata": {},
   "outputs": [],
   "source": []
  },
  {
   "cell_type": "markdown",
   "id": "9530de06-04ff-49a9-a79c-89a73b58beca",
   "metadata": {},
   "source": [
    "An algorithmic technique that breaks a problem into simpler subproblems, \n",
    "storing results to avoid redundant calculations.\n",
    "\n",
    "A problem where you select items with given weights and values to maximize \n",
    "total value without exceeding a weight limit, with each item being either \n",
    "included or excluded.\n",
    "\n",
    "Dynamic programming solves the 0-1 knapsack problem by building a table (matrix) that records \n",
    "the maximum value obtainable for each subproblem (i.e., for each weight limit from 0 to the \n",
    "knapsack capacity and for each item). The final cell in the table provides the optimal solution. \n",
    "Time complexity: O(nW), where n is the number of items and W is the capacity of the knapsack.\n",
    "\n",
    "Dynamic Programming stores results of overlapping subproblems, while \n",
    "Branch and Bound explores branches and prunes unpromising ones. The best \n",
    "approach depends on the problem context. \n",
    "\n",
    " Branch and bound is a general algorithmic framework used for solving combinatorial \n",
    "optimization problems like the traveling salesperson problem and the 0-1 knapsack problem. It \n",
    "systematically explores the solution space by dividing it into smaller subproblems (branching) and \n",
    "calculating upper or lower bounds to prune suboptimal solutions (bounding). \n",
    "In branch and bound, each subproblem (or \"branch\") is evaluated, and parts of the search space \n",
    "that cannot contain an optimal solution are eliminated (\"bounded\")."
   ]
  },
  {
   "cell_type": "code",
   "execution_count": null,
   "id": "48b87963-4d6d-455c-96ce-831abb76c8c1",
   "metadata": {},
   "outputs": [],
   "source": []
  },
  {
   "cell_type": "raw",
   "id": "9820ddca-8092-498f-81ab-2ece0147e631",
   "metadata": {},
   "source": [
    "This code solves the 0-1 Knapsack Problem using a Dynamic Programming (DP) approach to maximize the value that can be carried within a knapsack of limited capacity. Here’s an explanation of each part:\n",
    "\n",
    "1. **Function `knapsack_dp(weights, values, capacity)`**:\n",
    "   - **Inputs**:\n",
    "     - `weights`: List of weights for each item.\n",
    "     - `values`: List of values for each item.\n",
    "     - `capacity`: Maximum weight the knapsack can carry.\n",
    "   - **Dynamic Programming (DP) Table Setup**:\n",
    "     - The function initializes a 2D DP table `dp` with dimensions `(n + 1) x (capacity + 1)`, where `n` is the number of items.\n",
    "     - Each cell `dp[i][w]` represents the maximum value achievable with the first `i` items and a knapsack capacity of `w`.\n",
    "\n",
    "   - **Filling the DP Table**:\n",
    "     - The function iterates over each item (`i`) and each possible knapsack capacity (`w`).\n",
    "     - For each item, two cases are considered:\n",
    "       1. **Exclude the Item**: The value remains the same as without this item, `dp[i - 1][w]`.\n",
    "       2. **Include the Item** (only if it fits, i.e., `weights[i - 1] <= w`):\n",
    "          - The value is updated as `dp[i - 1][w - weights[i - 1]] + values[i - 1]`, adding the item’s value to the maximum achievable value without this item at a reduced capacity.\n",
    "     - The cell `dp[i][w]` is set to the maximum of these two options.\n",
    "\n",
    "   - **Result**:\n",
    "     - After filling the table, `dp[n][capacity]` holds the maximum value achievable for `n` items and the given knapsack capacity.\n",
    "\n",
    "2. **Driver Code**:\n",
    "   - **Inputs**:\n",
    "     - Takes the number of items, then collects each item’s `value` and `weight`.\n",
    "     - The user also provides the knapsack’s capacity.\n",
    "   - **Calling `knapsack_dp`**:\n",
    "     - The function is called with the input weights, values, and capacity, and the result (maximum achievable value) is printed."
   ]
  }
 ],
 "metadata": {
  "kernelspec": {
   "display_name": "Python 3 (ipykernel)",
   "language": "python",
   "name": "python3"
  },
  "language_info": {
   "codemirror_mode": {
    "name": "ipython",
    "version": 3
   },
   "file_extension": ".py",
   "mimetype": "text/x-python",
   "name": "python",
   "nbconvert_exporter": "python",
   "pygments_lexer": "ipython3",
   "version": "3.13.0"
  }
 },
 "nbformat": 4,
 "nbformat_minor": 5
}
