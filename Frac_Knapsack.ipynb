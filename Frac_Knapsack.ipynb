{
 "cells": [
  {
   "cell_type": "code",
   "execution_count": 3,
   "id": "c7346807-a093-46af-952c-7e10479369e6",
   "metadata": {},
   "outputs": [
    {
     "name": "stdin",
     "output_type": "stream",
     "text": [
      "Enter the number of items:  3\n",
      "Enter value of item 1:  60\n",
      "Enter weight of item 1:  10\n",
      "Enter value of item 2:  100\n",
      "Enter weight of item 2:  20\n",
      "Enter value of item 3:  120\n",
      "Enter weight of item 3:  30\n",
      "Enter the capacity of the knapsack:  50\n"
     ]
    },
    {
     "name": "stdout",
     "output_type": "stream",
     "text": [
      "Maximum value we can obtain = 240.0\n"
     ]
    }
   ],
   "source": [
    "#DAA 3 - Fractional Knapsack Problem\n",
    "\n",
    "# Class to represent an item with value and weight\n",
    "class Item:\n",
    "    def __init__(self, value, weight):\n",
    "        self.value = value\n",
    "        self.weight = weight\n",
    "\n",
    "# Function to calculate the maximum value that can be carried\n",
    "def fractional_knapsack(items, capacity):\n",
    "    # Sort items by value-to-weight ratio in descending order\n",
    "    items.sort(key=lambda item: item.value / item.weight, reverse=True)\n",
    "    total_value = 0.0  # To store the total value\n",
    "    for item in items:\n",
    "        if capacity >= item.weight:\n",
    "            # If the item can fit in the remaining capacity, take it all\n",
    "            capacity -= item.weight\n",
    "            total_value += item.value\n",
    "        else:\n",
    "            # Otherwise, take the fraction of the item that fits\n",
    "            fraction = capacity / item.weight\n",
    "            total_value += item.value * fraction\n",
    "            break  # The knapsack is full\n",
    "    return total_value\n",
    "\n",
    "# Driver code for user input\n",
    "if __name__ == \"__main__\":\n",
    "    # Step 1: Input number of items\n",
    "    n = int(input(\"Enter the number of items: \"))\n",
    "\n",
    "    items = []\n",
    "    # Step 2: Input value and weight for each item\n",
    "    for i in range(n):\n",
    "        value = float(input(f\"Enter value of item {i + 1}: \"))\n",
    "        weight = float(input(f\"Enter weight of item {i + 1}: \"))\n",
    "        items.append(Item(value, weight))\n",
    "\n",
    "    # Step 3: Input the capacity of the knapsack\n",
    "    capacity = float(input(\"Enter the capacity of the knapsack: \"))\n",
    "\n",
    "    # Step 4: Calculate and print the maximum value\n",
    "    max_value = fractional_knapsack(items, capacity)\n",
    "    print(f\"Maximum value we can obtain = {max_value}\")"
   ]
  },
  {
   "cell_type": "code",
   "execution_count": null,
   "id": "5f591f95-0913-48b7-9848-d00aa3e9ad71",
   "metadata": {},
   "outputs": [],
   "source": []
  },
  {
   "cell_type": "code",
   "execution_count": null,
   "id": "f5675334-45ed-442b-98ff-93f178b0ed3e",
   "metadata": {},
   "outputs": [],
   "source": []
  },
  {
   "cell_type": "code",
   "execution_count": null,
   "id": "793b6100-749f-42d7-a74c-f04b713f807e",
   "metadata": {},
   "outputs": [],
   "source": []
  },
  {
   "cell_type": "code",
   "execution_count": null,
   "id": "e8503104-86e2-4e48-8b3d-ac6af4612ef8",
   "metadata": {},
   "outputs": [],
   "source": []
  },
  {
   "cell_type": "code",
   "execution_count": null,
   "id": "8256d5cc-51b5-49c7-8786-b7fd23e7ffca",
   "metadata": {},
   "outputs": [],
   "source": []
  },
  {
   "cell_type": "code",
   "execution_count": null,
   "id": "a8282f36-3ce6-479d-94b2-5b1cffadf644",
   "metadata": {},
   "outputs": [],
   "source": []
  },
  {
   "cell_type": "code",
   "execution_count": null,
   "id": "d62530cc-8bd4-408f-a058-c3fb3b8dd8b4",
   "metadata": {},
   "outputs": [],
   "source": []
  },
  {
   "cell_type": "code",
   "execution_count": null,
   "id": "00960212-6489-4f2d-ae4d-8524a363b85f",
   "metadata": {},
   "outputs": [],
   "source": []
  },
  {
   "cell_type": "code",
   "execution_count": null,
   "id": "4787c319-f4f9-4945-a931-4ab48cc18e7d",
   "metadata": {},
   "outputs": [],
   "source": []
  },
  {
   "cell_type": "code",
   "execution_count": null,
   "id": "9898c7c1-2258-4ad6-ae03-c8dcfecb6e3c",
   "metadata": {},
   "outputs": [],
   "source": []
  },
  {
   "cell_type": "code",
   "execution_count": null,
   "id": "565367a2-b111-4188-8b0d-d25c50187434",
   "metadata": {},
   "outputs": [],
   "source": []
  },
  {
   "cell_type": "code",
   "execution_count": null,
   "id": "fdecd9fa-19f7-4290-ae16-f9be8bfc4a17",
   "metadata": {},
   "outputs": [],
   "source": []
  },
  {
   "cell_type": "code",
   "execution_count": null,
   "id": "4f10a09f-36d0-4e0d-b6d8-f141864a5bc7",
   "metadata": {},
   "outputs": [],
   "source": []
  },
  {
   "cell_type": "code",
   "execution_count": null,
   "id": "65360211-b205-4818-9244-36b04c26b882",
   "metadata": {},
   "outputs": [],
   "source": []
  },
  {
   "cell_type": "code",
   "execution_count": null,
   "id": "ec46d685-c2b3-4e1e-9b67-7aa89676399d",
   "metadata": {},
   "outputs": [],
   "source": []
  },
  {
   "cell_type": "code",
   "execution_count": null,
   "id": "2008120d-2b77-4d32-8b2c-4f058407c342",
   "metadata": {},
   "outputs": [],
   "source": []
  },
  {
   "cell_type": "code",
   "execution_count": null,
   "id": "fa711ea8-b0d3-4c8a-9d20-9a9dc2f0d671",
   "metadata": {},
   "outputs": [],
   "source": []
  },
  {
   "cell_type": "code",
   "execution_count": null,
   "id": "eca103c8-3dfe-40a8-8724-772cbf2f961c",
   "metadata": {},
   "outputs": [],
   "source": []
  },
  {
   "cell_type": "code",
   "execution_count": null,
   "id": "34fc6fc4-69e6-4424-8fb4-43f59f5c429d",
   "metadata": {},
   "outputs": [],
   "source": []
  },
  {
   "cell_type": "code",
   "execution_count": null,
   "id": "65ff7608-4694-404a-903c-d46d6f53704f",
   "metadata": {},
   "outputs": [],
   "source": []
  },
  {
   "cell_type": "code",
   "execution_count": null,
   "id": "e12fbaaa-16f0-448a-aceb-04834bf0a4c6",
   "metadata": {},
   "outputs": [],
   "source": []
  },
  {
   "cell_type": "code",
   "execution_count": null,
   "id": "2431f21c-ea6f-4294-9142-26a71e26378b",
   "metadata": {},
   "outputs": [],
   "source": []
  },
  {
   "cell_type": "code",
   "execution_count": null,
   "id": "9ef6656b-85d2-4806-9f00-7f5764351ac0",
   "metadata": {},
   "outputs": [],
   "source": []
  },
  {
   "cell_type": "code",
   "execution_count": null,
   "id": "3c0e030f-fd31-4654-a011-03fb55fe0d4a",
   "metadata": {},
   "outputs": [],
   "source": []
  },
  {
   "cell_type": "code",
   "execution_count": null,
   "id": "8f7920cf-b181-4a49-9f70-bc36614e1876",
   "metadata": {},
   "outputs": [],
   "source": []
  },
  {
   "cell_type": "markdown",
   "id": "7de0a1a1-7b67-45b8-a2ab-64240ee39246",
   "metadata": {},
   "source": [
    "This code solves the Fractional Knapsack Problem using a greedy approach to maximize the value in a knapsack of limited capacity.\n",
    "\n",
    "1. **Class `Item`**: Represents each item with a `value` and `weight`.\n",
    "\n",
    "2. **`fractional_knapsack` Function**:\n",
    "   - **Sort Items**: Items are sorted in descending order of their value-to-weight ratio to prioritize the most valuable items per weight unit.\n",
    "   - **Maximizing Value**: Iterates through each item:\n",
    "     - If an item can fully fit in the knapsack, it adds the full value and decreases the capacity.\n",
    "     - If only a part can fit, it adds the proportional (fractional) value based on the remaining capacity, then stops as the knapsack is full.\n",
    "\n",
    "3. **Driver Code**:\n",
    "   - **Inputs**: Number of items, value and weight of each item, and the knapsack capacity.\n",
    "   - **Result**: Calls `fractional_knapsack` to compute and display the maximum obtainable value.\n",
    "\n",
    "This approach is efficient, especially when fractions of items are allowed. For practicals, you can demonstrate this with sample values to show the sorting and step-by-step value accumulation."
   ]
  },
  {
   "cell_type": "code",
   "execution_count": null,
   "id": "a9d50b84-c6ce-476e-9a7e-6805c2ad3430",
   "metadata": {},
   "outputs": [],
   "source": []
  },
  {
   "cell_type": "markdown",
   "id": "e19a2918-aad6-493f-aaf7-97f40483f785",
   "metadata": {},
   "source": [
    "The fractional knapsack problem allows the breaking of items into smaller \n",
    "pieces. Given a set of items, each with a weight and value, the goal is to \n",
    "maximize the total value in the knapsack, where items can be divided. \n",
    "\n",
    "In the Fractional Knapsack, items can be divided into smaller parts, while in \n",
    "the 0/1 Knapsack, items must be taken whole or not at all. This results in \n",
    "different approaches and solutions for each problem.\n",
    "\n",
    "The greedy solution to this \n",
    "problem is based on selecting items in descending order of their value-to-weight ratio (profit \n",
    "density). The item with the highest ratio is selected first, then the next, until the knapsack is full. \n",
    "In each step, if the entire item fits in the remaining capacity of the knapsack, it is added; otherwise, \n",
    "a fraction of it is taken\n",
    "\n",
    "Time complexity: O(n log n) due to the sorting of items by value-to-weight ratio."
   ]
  },
  {
   "cell_type": "code",
   "execution_count": null,
   "id": "29ac4560-92d9-4771-bce6-f709f178ddbe",
   "metadata": {},
   "outputs": [],
   "source": []
  },
  {
   "cell_type": "raw",
   "id": "26c547e4-0b04-4732-9d14-fbb36b3957a8",
   "metadata": {},
   "source": [
    "Let's dry run the code with an example. Suppose we have 3 items with the following values and weights, and a knapsack capacity of 50.\n",
    "\n",
    "| Item | Value | Weight |\n",
    "|------|-------|--------|\n",
    "| 1    | 60    | 10     |\n",
    "| 2    | 100   | 20     |\n",
    "| 3    | 120   | 30     |\n",
    "\n",
    "### Step-by-Step Dry Run\n",
    "\n",
    "1. **Input**:\n",
    "   - Number of items: `3`\n",
    "   - Values and weights: (60, 10), (100, 20), (120, 30)\n",
    "   - Knapsack capacity: `50`\n",
    "\n",
    "2. **Sort Items by Value-to-Weight Ratio**:\n",
    "   - Calculate the value-to-weight ratios:\n",
    "     - Item 1: \\( \\frac{60}{10} = 6 \\)\n",
    "     - Item 2: \\( \\frac{100}{20} = 5 \\)\n",
    "     - Item 3: \\( \\frac{120}{30} = 4 \\)\n",
    "   - Sort in descending order of ratio: Item 1, Item 2, Item 3.\n",
    "\n",
    "3. **Initialize Total Value**:\n",
    "   - `total_value = 0.0`\n",
    "   - `capacity = 50`\n",
    "\n",
    "4. **Iterate through Each Item**:\n",
    "   - **Item 1 (value = 60, weight = 10)**:\n",
    "     - Capacity (50) is greater than Item 1’s weight (10), so take the entire item.\n",
    "     - Update capacity: `50 - 10 = 40`\n",
    "     - Update total value: `0 + 60 = 60`\n",
    "\n",
    "   - **Item 2 (value = 100, weight = 20)**:\n",
    "     - Capacity (40) is greater than Item 2’s weight (20), so take the entire item.\n",
    "     - Update capacity: `40 - 20 = 20`\n",
    "     - Update total value: `60 + 100 = 160`\n",
    "\n",
    "   - **Item 3 (value = 120, weight = 30)**:\n",
    "     - Capacity (20) is less than Item 3’s weight (30), so take a fraction of the item.\n",
    "     - Fraction to take: \\( \\frac{20}{30} = \\frac{2}{3} \\)\n",
    "     - Value of fraction: \\( 120 \\times \\frac{2}{3} = 80 \\)\n",
    "     - Update capacity: `20 - 20 = 0` (Knapsack is now full)\n",
    "     - Update total value: `160 + 80 = 240`\n",
    "\n",
    "5. **Result**:\n",
    "   - The maximum value we can obtain with a capacity of 50 is **240**.\n",
    "\n",
    "### Final Output\n",
    "```plaintext\n",
    "Maximum value we can obtain = 240\n",
    "```"
   ]
  }
 ],
 "metadata": {
  "kernelspec": {
   "display_name": "Python 3 (ipykernel)",
   "language": "python",
   "name": "python3"
  },
  "language_info": {
   "codemirror_mode": {
    "name": "ipython",
    "version": 3
   },
   "file_extension": ".py",
   "mimetype": "text/x-python",
   "name": "python",
   "nbconvert_exporter": "python",
   "pygments_lexer": "ipython3",
   "version": "3.13.0"
  }
 },
 "nbformat": 4,
 "nbformat_minor": 5
}
