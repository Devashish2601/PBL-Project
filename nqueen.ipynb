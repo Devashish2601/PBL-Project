{
 "cells": [
  {
   "cell_type": "code",
   "execution_count": 1,
   "id": "76225fb0-ae96-48cb-a106-17d48c0a8ec5",
   "metadata": {},
   "outputs": [
    {
     "name": "stdin",
     "output_type": "stream",
     "text": [
      "Enter the value of N:  8\n"
     ]
    },
    {
     "name": "stdout",
     "output_type": "stream",
     "text": [
      "Q * * * * * * * \n",
      "* * * * * * Q * \n",
      "* * * * Q * * * \n",
      "* * * * * * * Q \n",
      "* Q * * * * * * \n",
      "* * * Q * * * * \n",
      "* * * * * Q * * \n",
      "* * Q * * * * * \n"
     ]
    },
    {
     "data": {
      "text/plain": [
       "True"
      ]
     },
     "execution_count": 1,
     "metadata": {},
     "output_type": "execute_result"
    }
   ],
   "source": [
    "def is_safe(board, row, col, N):\n",
    "    # Check this row on left side\n",
    "    for i in range(col):\n",
    "        if board[row][i] == 1:\n",
    "            return False\n",
    "\n",
    "    # Check upper diagonal on left side\n",
    "    for i, j in zip(range(row, -1, -1), range(col, -1, -1)):\n",
    "        if board[i][j] == 1:\n",
    "            return False\n",
    "\n",
    "    # Check lower diagonal on left side\n",
    "    for i, j in zip(range(row, N, 1), range(col, -1, -1)):\n",
    "        if board[i][j] == 1:\n",
    "            return False\n",
    "\n",
    "    return True\n",
    "\n",
    "def solve_nqueens_util(board, col, N):\n",
    "    if col == N:\n",
    "        return True\n",
    "\n",
    "    for i in range(N):\n",
    "        if is_safe(board, i, col, N):\n",
    "            board[i][col] = 1\n",
    "\n",
    "            if solve_nqueens_util(board, col + 1, N):\n",
    "                return True\n",
    "\n",
    "            # Backtrack if this placement doesn't lead to a solution\n",
    "            board[i][col] = 0\n",
    "\n",
    "    return False\n",
    "\n",
    "def solve_nqueens(N):\n",
    "    board = [[0 for _ in range(N)] for _ in range(N)]\n",
    "\n",
    "    if not solve_nqueens_util(board, 0, N):\n",
    "        print(\"Solution does not exist\")\n",
    "        return False\n",
    "\n",
    "    # Print the board with 'Q' for queens and '*' for empty spaces\n",
    "    for i in range(N):\n",
    "        for j in range(N):\n",
    "            if board[i][j] == 1:\n",
    "                print('Q', end=\" \")\n",
    "            else:\n",
    "                print('*', end=\" \")\n",
    "        print()  # Move to the next line\n",
    "    return True\n",
    "\n",
    "# Get user input for N\n",
    "N = int(input(\"Enter the value of N: \"))\n",
    "\n",
    "solve_nqueens(N)\n"
   ]
  },
  {
   "cell_type": "code",
   "execution_count": null,
   "id": "350d26f8-5205-426e-93bc-f02d52315f23",
   "metadata": {},
   "outputs": [],
   "source": []
  },
  {
   "cell_type": "code",
   "execution_count": null,
   "id": "cfe8c9db-4d00-4ccb-a7c7-70af2bb14054",
   "metadata": {},
   "outputs": [],
   "source": []
  },
  {
   "cell_type": "code",
   "execution_count": null,
   "id": "4e25edf9-85ae-43ee-af23-83f9e6bfc25a",
   "metadata": {},
   "outputs": [],
   "source": []
  },
  {
   "cell_type": "code",
   "execution_count": null,
   "id": "796eb6a1-a27d-441f-aba4-238f7835f8bc",
   "metadata": {},
   "outputs": [],
   "source": []
  },
  {
   "cell_type": "code",
   "execution_count": null,
   "id": "224f6010-0d2a-4c37-bb6c-1d0196c27616",
   "metadata": {},
   "outputs": [],
   "source": []
  },
  {
   "cell_type": "code",
   "execution_count": null,
   "id": "eb00cf99-4c12-486c-87a5-61648558a27f",
   "metadata": {},
   "outputs": [],
   "source": []
  },
  {
   "cell_type": "code",
   "execution_count": null,
   "id": "2dbf0dc2-a063-42d7-b5e2-3fca80e1352b",
   "metadata": {},
   "outputs": [],
   "source": []
  },
  {
   "cell_type": "code",
   "execution_count": null,
   "id": "d23c4a2f-77b7-4aeb-876f-2cf4a65bb767",
   "metadata": {},
   "outputs": [],
   "source": []
  },
  {
   "cell_type": "code",
   "execution_count": null,
   "id": "7decf68f-b605-4a36-8b9d-b10f39920cb0",
   "metadata": {},
   "outputs": [],
   "source": []
  },
  {
   "cell_type": "code",
   "execution_count": null,
   "id": "3642f7d9-b794-45cb-b56f-544ab0199b65",
   "metadata": {},
   "outputs": [],
   "source": []
  },
  {
   "cell_type": "code",
   "execution_count": null,
   "id": "5e24a6ea-d6c9-4527-aaa6-0c272f28caec",
   "metadata": {},
   "outputs": [],
   "source": []
  },
  {
   "cell_type": "code",
   "execution_count": null,
   "id": "c0820f8a-c007-43fd-b6f4-dcb3cc63009d",
   "metadata": {},
   "outputs": [],
   "source": []
  },
  {
   "cell_type": "code",
   "execution_count": null,
   "id": "0db68d51-b687-43ac-8dff-214ef540d7fd",
   "metadata": {},
   "outputs": [],
   "source": []
  },
  {
   "cell_type": "code",
   "execution_count": null,
   "id": "553c9902-8c7c-4739-aaa7-92841678cd0a",
   "metadata": {},
   "outputs": [],
   "source": []
  },
  {
   "cell_type": "code",
   "execution_count": null,
   "id": "591ea7c7-9339-4899-86eb-0e844655ed6a",
   "metadata": {},
   "outputs": [],
   "source": []
  },
  {
   "cell_type": "code",
   "execution_count": null,
   "id": "93cd9d28-060c-4b52-8837-99f86b52781b",
   "metadata": {},
   "outputs": [],
   "source": []
  },
  {
   "cell_type": "code",
   "execution_count": null,
   "id": "5e630432-4a45-40dd-b07e-40a9efedffd8",
   "metadata": {},
   "outputs": [],
   "source": []
  },
  {
   "cell_type": "code",
   "execution_count": null,
   "id": "0988fc59-96ee-4184-940d-92073d38857f",
   "metadata": {},
   "outputs": [],
   "source": []
  },
  {
   "cell_type": "code",
   "execution_count": null,
   "id": "1567fe9c-1f4f-4173-afa1-eab28425e501",
   "metadata": {},
   "outputs": [],
   "source": []
  },
  {
   "cell_type": "code",
   "execution_count": null,
   "id": "00304e5f-8db0-447e-91ee-1bf91e36c9dc",
   "metadata": {},
   "outputs": [],
   "source": []
  },
  {
   "cell_type": "code",
   "execution_count": null,
   "id": "5a041f23-5b0f-4674-9f87-dfcd6c51e902",
   "metadata": {},
   "outputs": [],
   "source": []
  },
  {
   "cell_type": "code",
   "execution_count": null,
   "id": "cac56a32-7c9f-4ce3-b416-51b91de3a27c",
   "metadata": {},
   "outputs": [],
   "source": []
  },
  {
   "cell_type": "code",
   "execution_count": null,
   "id": "75b802ed-a580-47a5-ba22-80258824d20e",
   "metadata": {},
   "outputs": [],
   "source": []
  },
  {
   "cell_type": "code",
   "execution_count": null,
   "id": "69cd3dcc-2d3c-45aa-b32a-f4313d7c9ae2",
   "metadata": {},
   "outputs": [],
   "source": []
  },
  {
   "cell_type": "raw",
   "id": "3b77d9a5-8f84-49b7-87f5-473a494c1054",
   "metadata": {},
   "source": [
    "This code solves the **N-Queens Problem** using backtracking, placing `N` queens on an `N x N` chessboard so that no two queens threaten each other.\n",
    "\n",
    "### Code Explanation\n",
    "\n",
    "1. **Function `is_safe(board, row, col, N)`**:\n",
    "   - **Purpose**: Checks if a queen can be safely placed at `board[row][col]`.\n",
    "   - **Safety Checks**:\n",
    "     - **Row Check**: Checks the left side of the current row to see if any queen is present.\n",
    "     - **Upper Diagonal Check**: Checks the upper left diagonal.\n",
    "     - **Lower Diagonal Check**: Checks the lower left diagonal.\n",
    "   - Returns `True` if no queens threaten this position, otherwise `False`.\n",
    "\n",
    "2. **Function `solve_nqueens_util(board, col, N)`**:\n",
    "   - **Recursive Placement**:\n",
    "     - **Base Case**: If all columns are filled (`col == N`), a solution is found, and it returns `True`.\n",
    "     - **Iterative Placement**: Tries placing a queen in each row of the current column:\n",
    "       - If `is_safe` returns `True` for a position `(i, col)`, places a queen (`board[i][col] = 1`).\n",
    "       - **Recursive Call**: Moves to the next column (`col + 1`). If it results in a solution, returns `True`.\n",
    "       - **Backtracking**: If placing a queen doesn’t lead to a solution, removes the queen (`board[i][col] = 0`) and continues to the next row.\n",
    "\n",
    "3. **Function `solve_nqueens(N)`**:\n",
    "   - **Board Setup**: Initializes an `N x N` board with all positions set to `0` (no queens).\n",
    "   - **Solution Attempt**: Calls `solve_nqueens_util` to try placing queens.\n",
    "   - **Output**:\n",
    "     - If a solution exists, prints the board with `'Q'` for queens and `'*'` for empty spaces.\n",
    "     - If no solution exists, prints \"Solution does not exist\".\n",
    "\n",
    "4. **Driver Code**:\n",
    "   - **User Input**: Takes the value of `N`.\n",
    "   - **Solve and Print**: Calls `solve_nqueens(N)` to display one possible solution or indicate if none exists.\n",
    "\n",
    "### Example Workflow (for \\( N = 4 \\))\n",
    "The board is populated by placing queens column by column, using `is_safe` to verify safe positions. If a column placement fails to allow solutions in further columns, it backtracks and tries different rows for prior columns, ensuring no two queens threaten each other.\n",
    "\n",
    "This approach effectively finds solutions using backtracking, exploring possible placements in a systematic manner."
   ]
  },
  {
   "cell_type": "code",
   "execution_count": null,
   "id": "d5873559-7875-4e56-b619-62a29bbd7575",
   "metadata": {},
   "outputs": [],
   "source": []
  },
  {
   "cell_type": "markdown",
   "id": "cb2bb20d-eb5d-4922-86a1-c752d2e80dff",
   "metadata": {},
   "source": [
    "The N-Queens problem is a classic combinatorial problem where N queens must be placed \n",
    "on an N x N chessboard such that no two queens threaten each other. This means no two \n",
    "queens can share the same row, column, or diagonal. \n",
    "The problem is solved using backtracking, which systematically explores possible placements of \n",
    "queens and backtracks if a placement leads to a conflict.\n",
    "\n",
    "Backtracking is a method for solving problems by trying different options and \n",
    "going back if a choice doesn’t work. The general procedure is to explore all \n",
    "possible solutions, check if they are valid, and undo choices when needed. "
   ]
  },
  {
   "cell_type": "code",
   "execution_count": null,
   "id": "464cc96f-7560-4b4a-a9e4-6998d2ccd5ea",
   "metadata": {},
   "outputs": [],
   "source": []
  },
  {
   "cell_type": "raw",
   "id": "64d050c5-d3d8-4402-8145-15350dad6514",
   "metadata": {},
   "source": [
    "• Initialize an empty N x N chessboard. \n",
    "• Check if placing a queen at (row, col) is safe. \n",
    "• If all queens are placed, print the board. \n",
    "• For each row in the current column: \n",
    "• If safe, place a queen and move to the next column. \n",
    "• If not successful, remove the queen (backtrack). \n",
    "• Start with the first column."
   ]
  }
 ],
 "metadata": {
  "kernelspec": {
   "display_name": "Python 3 (ipykernel)",
   "language": "python",
   "name": "python3"
  },
  "language_info": {
   "codemirror_mode": {
    "name": "ipython",
    "version": 3
   },
   "file_extension": ".py",
   "mimetype": "text/x-python",
   "name": "python",
   "nbconvert_exporter": "python",
   "pygments_lexer": "ipython3",
   "version": "3.13.0"
  }
 },
 "nbformat": 4,
 "nbformat_minor": 5
}
