{
 "cells": [
  {
   "cell_type": "code",
   "execution_count": 1,
   "id": "d704355a-3420-4b16-93f3-1fc1a159b843",
   "metadata": {},
   "outputs": [
    {
     "name": "stdin",
     "output_type": "stream",
     "text": [
      "Enter the data to encode:  Devashish\n"
     ]
    },
    {
     "name": "stdout",
     "output_type": "stream",
     "text": [
      "Encoded Data: 1000011011100111100001111\n",
      "Decoded Data: Devashish\n",
      "The encoded and decoded messages match, hence verification is successful.\n"
     ]
    }
   ],
   "source": [
    "# DAA 2 - Huffman Coding (Using Greedy Approach)\n",
    "\n",
    "import heapq\n",
    "\n",
    "# Node structure for Huffman Tree\n",
    "class HuffmanNode:\n",
    "    def __init__(self, char, freq):\n",
    "        self.char = char\n",
    "        self.freq = freq\n",
    "        self.left = None\n",
    "        self.right = None\n",
    "\n",
    "    # Defining less than operator for priority queue comparison\n",
    "    def __lt__(self, other):\n",
    "        return self.freq < other.freq\n",
    "\n",
    "# Function to generate Huffman codes\n",
    "def generate_codes(root, current_code, codes):\n",
    "    if root is None:\n",
    "        return\n",
    "    if root.char is not None:\n",
    "        codes[root.char] = current_code\n",
    "    generate_codes(root.left, current_code + \"0\", codes)\n",
    "    generate_codes(root.right, current_code + \"1\", codes)\n",
    "\n",
    "# Function to build Huffman Tree\n",
    "def build_huffman_tree(frequency):\n",
    "    heap = []\n",
    "    # Insert all characters with their frequencies into the heap\n",
    "    for char, freq in frequency.items():\n",
    "        heapq.heappush(heap, HuffmanNode(char, freq))\n",
    "\n",
    "    # Merge nodes until we have one tree\n",
    "    while len(heap) > 1:\n",
    "        node1 = heapq.heappop(heap)\n",
    "        node2 = heapq.heappop(heap)\n",
    "        # Create a new internal node with the combined frequency\n",
    "        merged = HuffmanNode(None, node1.freq + node2.freq)\n",
    "        merged.left = node1\n",
    "        merged.right = node2\n",
    "        heapq.heappush(heap, merged)\n",
    "\n",
    "    # The root of the Huffman Tree\n",
    "    return heapq.heappop(heap)\n",
    "\n",
    "# Function to calculate frequency of characters\n",
    "def calculate_frequency(data):\n",
    "    frequency = {}\n",
    "    for char in data:\n",
    "        if char not in frequency:\n",
    "            frequency[char] = 0\n",
    "        frequency[char] += 1\n",
    "    return frequency\n",
    "\n",
    "# Huffman Encoding process\n",
    "def huffman_encoding(data):\n",
    "    frequency = calculate_frequency(data)\n",
    "    huffman_tree_root = build_huffman_tree(frequency)\n",
    "\n",
    "    codes = {}\n",
    "    generate_codes(huffman_tree_root, \"\", codes)\n",
    "\n",
    "    # Encode the input data\n",
    "    encoded_data = \"\".join([codes[char] for char in data])\n",
    "\n",
    "    return encoded_data, huffman_tree_root\n",
    "\n",
    "# Huffman Decoding process\n",
    "def huffman_decoding(encoded_data, huffman_tree_root):\n",
    "    decoded_data = \"\"\n",
    "    current_node = huffman_tree_root\n",
    "    for bit in encoded_data:\n",
    "        if bit == '0':\n",
    "            current_node = current_node.left\n",
    "        else:\n",
    "            current_node = current_node.right\n",
    "\n",
    "        if current_node.left is None and current_node.right is None:\n",
    "            decoded_data += current_node.char\n",
    "            current_node = huffman_tree_root\n",
    "\n",
    "    return decoded_data\n",
    "\n",
    "# Driver code for user input\n",
    "if __name__ == \"__main__\":\n",
    "    data = input(\"Enter the data to encode: \")\n",
    "\n",
    "    encoded_data, huffman_tree_root = huffman_encoding(data)\n",
    "    print(f\"Encoded Data: {encoded_data}\")\n",
    "\n",
    "    decoded_data = huffman_decoding(encoded_data, huffman_tree_root)\n",
    "    print(f\"Decoded Data: {decoded_data}\")\n",
    "\n",
    "    # Verification of matching encoded and decoded data\n",
    "    if data == decoded_data:\n",
    "        print(\"The encoded and decoded messages match, hence verification is successful.\")\n",
    "    else:\n",
    "        print(\"The encoded and decoded messages do not match, verification failed.\")"
   ]
  },
  {
   "cell_type": "code",
   "execution_count": null,
   "id": "b569604c-2c31-4bc0-9c0b-8bc5e6b0d801",
   "metadata": {},
   "outputs": [],
   "source": []
  },
  {
   "cell_type": "code",
   "execution_count": null,
   "id": "d492f151-003a-439e-97dc-5476e4e542c2",
   "metadata": {},
   "outputs": [],
   "source": []
  },
  {
   "cell_type": "code",
   "execution_count": null,
   "id": "c370f7c2-cc06-42f9-8eda-7e59e111adb3",
   "metadata": {},
   "outputs": [],
   "source": []
  },
  {
   "cell_type": "code",
   "execution_count": null,
   "id": "5932903a-68ea-46d0-b07d-b1bbe1fab1fd",
   "metadata": {},
   "outputs": [],
   "source": []
  },
  {
   "cell_type": "code",
   "execution_count": null,
   "id": "801b0c85-9324-4ee0-a292-22276785b464",
   "metadata": {},
   "outputs": [],
   "source": []
  },
  {
   "cell_type": "code",
   "execution_count": null,
   "id": "2f528777-dbc4-4c16-8a5e-32401e4f9c05",
   "metadata": {},
   "outputs": [],
   "source": []
  },
  {
   "cell_type": "code",
   "execution_count": null,
   "id": "c47e39ac-33b4-4b97-a619-61e1a7054ada",
   "metadata": {},
   "outputs": [],
   "source": []
  },
  {
   "cell_type": "code",
   "execution_count": null,
   "id": "c8332990-8a2f-4814-8795-e24aa6687cfa",
   "metadata": {},
   "outputs": [],
   "source": []
  },
  {
   "cell_type": "code",
   "execution_count": null,
   "id": "a479e52d-f3ae-4464-8d9e-5513a0a2278c",
   "metadata": {},
   "outputs": [],
   "source": []
  },
  {
   "cell_type": "code",
   "execution_count": null,
   "id": "7df66fb6-888b-4ae2-b7d5-290a1d43a26b",
   "metadata": {},
   "outputs": [],
   "source": []
  },
  {
   "cell_type": "code",
   "execution_count": null,
   "id": "abb49390-ed32-4eb9-b9d9-ff9105543e05",
   "metadata": {},
   "outputs": [],
   "source": []
  },
  {
   "cell_type": "code",
   "execution_count": null,
   "id": "af4cd90c-101c-4567-b998-6b732b76185b",
   "metadata": {},
   "outputs": [],
   "source": []
  },
  {
   "cell_type": "code",
   "execution_count": null,
   "id": "3252bb04-f242-4c22-be31-3dcf1c068221",
   "metadata": {},
   "outputs": [],
   "source": []
  },
  {
   "cell_type": "code",
   "execution_count": null,
   "id": "bc7b4f1a-d0a4-4616-8e14-b96cfd394361",
   "metadata": {},
   "outputs": [],
   "source": []
  },
  {
   "cell_type": "code",
   "execution_count": null,
   "id": "11d4bdb1-651a-4afb-9cf2-4269c5ce0b18",
   "metadata": {},
   "outputs": [],
   "source": []
  },
  {
   "cell_type": "code",
   "execution_count": null,
   "id": "bdf3067b-96b7-40fd-b5f5-b627fbc6aada",
   "metadata": {},
   "outputs": [],
   "source": []
  },
  {
   "cell_type": "code",
   "execution_count": null,
   "id": "ce0c520a-cb76-41cd-af2e-e1b74be9105d",
   "metadata": {},
   "outputs": [],
   "source": []
  },
  {
   "cell_type": "code",
   "execution_count": null,
   "id": "c2a2b31d-f748-4b01-b18d-0a7a0cf81569",
   "metadata": {},
   "outputs": [],
   "source": []
  },
  {
   "cell_type": "code",
   "execution_count": null,
   "id": "c407b242-3e05-4390-946e-489f4131b06c",
   "metadata": {},
   "outputs": [],
   "source": []
  },
  {
   "cell_type": "code",
   "execution_count": null,
   "id": "aa296d34-d15c-4a34-aa93-52d684ba6704",
   "metadata": {},
   "outputs": [],
   "source": []
  },
  {
   "cell_type": "code",
   "execution_count": null,
   "id": "bd4b1b35-6959-44eb-8957-283e8c72144a",
   "metadata": {},
   "outputs": [],
   "source": []
  },
  {
   "cell_type": "code",
   "execution_count": null,
   "id": "8f374bbc-5f9a-49dd-a800-758629f0de32",
   "metadata": {},
   "outputs": [],
   "source": []
  },
  {
   "cell_type": "code",
   "execution_count": null,
   "id": "fa396794-3487-4939-bad0-eb8800a534be",
   "metadata": {},
   "outputs": [],
   "source": []
  },
  {
   "cell_type": "code",
   "execution_count": null,
   "id": "01507a87-f7a0-4459-8bfa-67ff5e0fdbae",
   "metadata": {},
   "outputs": [],
   "source": []
  },
  {
   "cell_type": "raw",
   "id": "39f2d14a-67a7-4006-826c-7fa063a8809e",
   "metadata": {},
   "source": [
    "This code implements Huffman Coding, a compression technique using a greedy algorithm.\n",
    "\n",
    "1. **Class `HuffmanNode`**: Represents each node in the Huffman Tree. It holds a character, frequency, and pointers to left and right child nodes. The `__lt__` method enables nodes to be compared by frequency in a priority queue.\n",
    "\n",
    "2. **Function `generate_codes`**: Recursively traverses the Huffman Tree to generate binary codes for each character. A left traversal adds \"0\" to the code, and a right traversal adds \"1.\"\n",
    "\n",
    "3. **Function `build_huffman_tree`**: Builds the Huffman Tree using a priority queue (min-heap) where nodes with the lowest frequencies are combined first. Nodes are merged iteratively until only one tree remains, which is the Huffman Tree.\n",
    "\n",
    "4. **Function `calculate_frequency`**: Counts the frequency of each character in the input data and stores it in a dictionary.\n",
    "\n",
    "5. **Function `huffman_encoding`**: \n",
    "   - Calculates character frequencies.\n",
    "   - Builds the Huffman Tree.\n",
    "   - Generates binary codes for each character.\n",
    "   - Encodes the input data using these binary codes.\n",
    "\n",
    "6. **Function `huffman_decoding`**: Decodes the encoded binary string by traversing the Huffman Tree based on each bit. When reaching a leaf node, it appends the character to the decoded data.\n",
    "\n",
    "7. **Driver Code**: Takes user input, encodes it using Huffman encoding, and then decodes it back to verify that the original data matches the decoded data. It outputs whether the encoding-decoding cycle is successful."
   ]
  },
  {
   "cell_type": "markdown",
   "id": "c710655b-52e8-496d-b806-e0627bd22ee9",
   "metadata": {},
   "source": [
    "Huffman encoding is a lossless data compression algorithm that assigns variable-length \n",
    "binary codes to input characters, with shorter codes assigned to more frequent characters. The \n",
    "algorithm constructs a binary tree where each character is a leaf node, and the path to each leaf \n",
    "defines the binary encoding. \n",
    "\n",
    "The greedy strategy used by Huffman encoding is based on repeatedly choosing the two \n",
    "characters (or subtrees) with the lowest frequencies, combining them, and treating them as a \n",
    "single unit. This process is repeated until all characters are encoded, ensuring an optimal \n",
    "encoding that minimizes the overall length of the encoded message."
   ]
  },
  {
   "cell_type": "markdown",
   "id": "54cdbe93-84e8-4e2c-8029-17100c3da962",
   "metadata": {},
   "source": [
    " A greedy algorithm builds up a solution step by step, making the choice that looks best at \n",
    "each step (locally optimal choice) without reconsidering previously made decisions. The hope is \n",
    "that the locally optimal solutions will lead to a globally optimal solution. not always guarantee the optimal solution for every problem. \n",
    "However, they work perfectly for problems like Huffman encoding and the fractional knapsack \n",
    "problem."
   ]
  }
 ],
 "metadata": {
  "kernelspec": {
   "display_name": "Python 3 (ipykernel)",
   "language": "python",
   "name": "python3"
  },
  "language_info": {
   "codemirror_mode": {
    "name": "ipython",
    "version": 3
   },
   "file_extension": ".py",
   "mimetype": "text/x-python",
   "name": "python",
   "nbconvert_exporter": "python",
   "pygments_lexer": "ipython3",
   "version": "3.13.0"
  }
 },
 "nbformat": 4,
 "nbformat_minor": 5
}
